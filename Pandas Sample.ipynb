{
 "cells": [
  {
   "cell_type": "code",
   "execution_count": 48,
   "metadata": {},
   "outputs": [
    {
     "name": "stdout",
     "output_type": "stream",
     "text": [
      "     수학  과학  영어\n",
      "s0             \n",
      "홍길동  70  90  80\n",
      "홍이동  80  60  75\n",
      "홍삼동  60  90  75\n",
      "     수학  과학  영어   합계         평균\n",
      "s0                             \n",
      "홍길동  70  90  80  210  70.000000\n",
      "홍이동  80  60  75  240  80.000000\n",
      "홍삼동  60  90  75  230  76.666667\n"
     ]
    }
   ],
   "source": [
    "import pandas as pd\n",
    "\n",
    "data1 = {'s0' : ['홍길동', '홍이동', '홍삼동'],\n",
    "        '수학' : [70,80,60],\n",
    "        '과학' : [90,60,90],\n",
    "        '영어' : [80, 75,75]}\n",
    "\n",
    "df = pd.DataFrame(data1)\n",
    "df.set_index('s0', inplace=True)\n",
    "print(df)\n",
    "\n",
    "a= df.loc['홍길동', '수학']\n",
    "b= df.loc['홍길동', '과학']\n",
    "c= df.loc['홍길동', '영어']\n",
    "d= df.loc['홍이동', '수학']\n",
    "e= df.loc['홍이동', '과학']\n",
    "f= df.loc['홍이동', '영어']\n",
    "g= df.loc['홍삼동', '수학']\n",
    "h= df.loc['홍삼동', '과학']\n",
    "i= df.loc['홍삼동', '영어']\n",
    "\n",
    "j = a+d+g\n",
    "k = b+e+h\n",
    "l = c+f+i\n",
    "\n",
    "\n",
    "data2 = {'s0' : ['홍길동', '홍이동', '홍삼동'],\n",
    "        '수학' : [70,80,60],\n",
    "        '과학' : [90,60,90],\n",
    "        '영어' : [80, 75,75],\n",
    "        '합계' : [j, k, l],\n",
    "        '평균' : [int(j)/3, int(k)/3, int(l)/3]}\n",
    "\n",
    "df1 = pd.DataFrame(data2)\n",
    "df1.set_index('s0', inplace=True)\n",
    "\n",
    "print(df1)"
   ]
  },
  {
   "cell_type": "code",
   "execution_count": null,
   "metadata": {},
   "outputs": [],
   "source": []
  }
 ],
 "metadata": {
  "kernelspec": {
   "display_name": "Python 3",
   "language": "python",
   "name": "python3"
  },
  "language_info": {
   "codemirror_mode": {
    "name": "ipython",
    "version": 3
   },
   "file_extension": ".py",
   "mimetype": "text/x-python",
   "name": "python",
   "nbconvert_exporter": "python",
   "pygments_lexer": "ipython3",
   "version": "3.8.5"
  }
 },
 "nbformat": 4,
 "nbformat_minor": 4
}
