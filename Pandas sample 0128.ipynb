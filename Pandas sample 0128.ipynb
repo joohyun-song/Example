{
 "cells": [
  {
   "cell_type": "code",
   "execution_count": 13,
   "metadata": {},
   "outputs": [
    {
     "name": "stdout",
     "output_type": "stream",
     "text": [
      "                                        경기수       금       은       동      계\n",
      "Totals                                   28  5116.0  5080.0  5487.0  15683\n",
      "United States (USA) [P] [Q] [R] [Z] [F]  27  1022.0   795.0   706.0   2523\n",
      "Soviet Union (URS) [URS]                  9   395.0   319.0   296.0   1010\n",
      "Great Britain (GBR) [GBR] [Z]            28   263.0   295.0   293.0    851\n",
      "China (CHN) [CHN]                        10   224.0   167.0   155.0    546\n",
      "...                                      ..     ...     ...     ...    ...\n",
      "Eritrea (ERI)                             5     0.0     0.0     1.0      1\n",
      "Serbia and Montenegro (SCG) [SCG]         1     0.0     2.0     0.0      2\n",
      "Djibouti (DJI) [B]                        8     0.0     0.0     1.0      1\n",
      "Afghanistan (AFG)                        14     0.0     0.0     2.0      2\n",
      "Team (IOC code)                           №     NaN     NaN     NaN  Total\n",
      "\n",
      "[154 rows x 5 columns]\n"
     ]
    }
   ],
   "source": [
    "import pandas as pd\n",
    "df= pd.read_html('https://en.wikipedia.org/wiki/All-time_Olympic_Games_medal_table', header=0, index_col=0)\n",
    "\n",
    "summer = df[1].iloc[:,:5]\n",
    "summer.columns = ['경기수', '금', '은', '동', '계']\n",
    "print(summer.sort_values('금', ascending=False))\n",
    "summer.to_excel('하계올림픽메달.xlsx')"
   ]
  },
  {
   "cell_type": "code",
   "execution_count": 16,
   "metadata": {},
   "outputs": [
    {
     "name": "stdout",
     "output_type": "stream",
     "text": [
      "DatetimeIndex(['2000-01-01', '2000-01-02', '2000-01-03', '2000-01-04',\n",
      "               '2000-01-05', '2000-01-06', '2000-01-07', '2000-01-08'],\n",
      "              dtype='datetime64[ns]', freq='D')\n",
      "                   A         B         C           D\n",
      "2000-01-01  0.493938  0.744191  0.852216    0.663724\n",
      "2000-01-02  0.277396  0.250205  0.761735    1.108677\n",
      "2000-01-03  0.874686  0.684741  0.981978    1.277397\n",
      "2000-01-04  0.984433  0.740180  0.601692    1.329992\n",
      "2000-01-05  0.245523  0.615933  0.318964    0.398619\n",
      "2000-01-06  0.619399  0.365262  0.273761    1.695767\n",
      "2000-01-07  0.331083  0.696008  0.293355    0.475689\n",
      "2000-01-08  0.912095  0.006529  0.710294  139.698375\n"
     ]
    }
   ],
   "source": [
    "import pandas as pd\n",
    "\n",
    "index=pd.date_range('1/1/2000', periods=8)\n",
    "print(index)\n",
    "\n",
    "import numpy as np\n",
    "df = pd.DataFrame(np.random.rand(8,3), index=index, columns=list('ABC'))\n",
    "df['D'] = df['A']/df['B']\n",
    "print(df)"
   ]
  },
  {
   "cell_type": "code",
   "execution_count": 56,
   "metadata": {},
   "outputs": [
    {
     "name": "stdout",
     "output_type": "stream",
     "text": [
      "     수학  과학  영어   합계         평균\n",
      "s0                             \n",
      "홍길동  70  90  80  240  80.000000\n",
      "홍이동  80  60  75  215  71.666667\n",
      "홍삼동  60  90  75  225  75.000000\n"
     ]
    }
   ],
   "source": [
    "import pandas as pd\n",
    "\n",
    "data1 = {'s0' : ['홍길동', '홍이동', '홍삼동'],\n",
    "        '수학' : [70,80,60],\n",
    "        '과학' : [90,60,90],\n",
    "        '영어' : [80, 75,75]}\n",
    "\n",
    "df = pd.DataFrame(data1)\n",
    "df.set_index('s0', inplace=True)\n",
    "df['합계'] = df['수학'] + df['과학'] + df['영어']\n",
    "df['평균'] = (df['수학'] + df['과학'] + df['영어']) /3 \n",
    "\n",
    "\n",
    "print(df)"
   ]
  },
  {
   "cell_type": "code",
   "execution_count": null,
   "metadata": {},
   "outputs": [],
   "source": []
  }
 ],
 "metadata": {
  "kernelspec": {
   "display_name": "Python 3",
   "language": "python",
   "name": "python3"
  },
  "language_info": {
   "codemirror_mode": {
    "name": "ipython",
    "version": 3
   },
   "file_extension": ".py",
   "mimetype": "text/x-python",
   "name": "python",
   "nbconvert_exporter": "python",
   "pygments_lexer": "ipython3",
   "version": "3.8.5"
  }
 },
 "nbformat": 4,
 "nbformat_minor": 4
}
